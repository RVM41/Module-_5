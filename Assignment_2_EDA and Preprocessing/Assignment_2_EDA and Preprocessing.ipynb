{
 "cells": [
  {
   "cell_type": "markdown",
   "id": "9ff41f48-bddb-459b-bee5-a7825e0f3563",
   "metadata": {},
   "source": [
    " # ASSIGNMENT_2"
   ]
  },
  {
   "cell_type": "markdown",
   "id": "16968e63-53b0-4dea-81be-ee650458b156",
   "metadata": {},
   "source": [
    "## EDA and Preprocessing"
   ]
  },
  {
   "cell_type": "markdown",
   "id": "1e2da8d8-1600-4552-b751-9ea42ae8596f",
   "metadata": {},
   "source": [
    "### ---------------------------------------------------------"
   ]
  },
  {
   "cell_type": "code",
   "execution_count": 45,
   "id": "7cdf2130-bf99-4507-a0c7-355b5b241ade",
   "metadata": {},
   "outputs": [],
   "source": [
    "import pandas as pd  # For data manipulation and analysis\n",
    "import numpy as np  # For numerical computations\n",
    "import matplotlib.pyplot as plt  # For plotting charts and graphs\n",
    "import seaborn as sns  # For statistical data visualization\n",
    "import scipy.stats as stats  # For statistical analysis\n",
    "import plotly.express as px  # For interactive visualizations\n",
    "#import pandas_profiling  # For quick and detailed data profiling\n",
    "#import sweetviz as sv  # For visualizing and comparing data\n",
    "# import dtale  # For interactive visualizations of dataframes\n",
    "from sklearn.preprocessing import StandardScaler, MinMaxScaler  # For feature scaling\n"
   ]
  },
  {
   "cell_type": "markdown",
   "id": "ad3c8951-4628-41f1-908f-895a6924d22b",
   "metadata": {},
   "source": [
    "\n",
    "## .Data Exploration: (Score : 2)\n",
    "### .Explore the data, list down the unique values in each feature and find its length.\n",
    "### .Perform the statistical analysis and renaming of the columns.\n"
   ]
  },
  {
   "cell_type": "code",
   "execution_count": 47,
   "id": "09462aec-942e-44d1-85af-954a15426d3a",
   "metadata": {},
   "outputs": [
    {
     "name": "stdout",
     "output_type": "stream",
     "text": [
      "Unique Values and their Lengths:\n",
      "Company: 7 unique values\n",
      "Age: 30 unique values\n",
      "Salary: 41 unique values\n",
      "Place: 12 unique values\n",
      "Country: 1 unique values\n",
      "Gender: 2 unique values\n",
      "\n",
      "Statistical Analysis:\n",
      "              Age       Salary      Gender\n",
      "count  130.000000   124.000000  148.000000\n",
      "mean    30.484615  5312.467742    0.222973\n",
      "std     11.096640  2573.764683    0.417654\n",
      "min      0.000000  1089.000000    0.000000\n",
      "25%     22.000000  3030.000000    0.000000\n",
      "50%     32.500000  5000.000000    0.000000\n",
      "75%     37.750000  8000.000000    0.000000\n",
      "max     54.000000  9876.000000    1.000000\n",
      "Index(['Company', 'Age', 'Salary', 'Place', 'Country', 'Gender'], dtype='object')\n"
     ]
    }
   ],
   "source": [
    "import pandas as pd\n",
    "\n",
    "# Load the dataset\n",
    "url = \"https://drive.google.com/uc?id=1F3lRf32JM8ejnXq-Cbf9y7fa57zSHGz_\"\n",
    "data = pd.read_csv(url)\n",
    "\n",
    "# Explore unique values and their lengths\n",
    "unique_values = {col: data[col].unique() for col in data.columns}\n",
    "lengths = {col: len(data[col].unique()) for col in data.columns}\n",
    "\n",
    "print(\"Unique Values and their Lengths:\")\n",
    "for col in data.columns:\n",
    "    print(f\"{col}: {lengths[col]} unique values\")\n",
    "\n",
    "# Perform statistical analysis\n",
    "stats = data.describe()\n",
    "\n",
    "# Renaming columns (if needed)\n",
    "# Example: data.rename(columns={'old_name': 'new_name'}, inplace=True)\n",
    "# data.columns = [col_name.lower() for col_name in data.columns]  # Convert column names to lowercase\n",
    "\n",
    "print(\"\\nStatistical Analysis:\")\n",
    "print(stats)\n",
    "\n",
    "# print(\"\\nRenamed Columns:\")\n",
    "print(data.columns)\n"
   ]
  },
  {
   "cell_type": "code",
   "execution_count": 13,
   "id": "ad718c9f-01a2-464b-b103-60f73953884e",
   "metadata": {},
   "outputs": [
    {
     "data": {
      "text/html": [
       "<div>\n",
       "<style scoped>\n",
       "    .dataframe tbody tr th:only-of-type {\n",
       "        vertical-align: middle;\n",
       "    }\n",
       "\n",
       "    .dataframe tbody tr th {\n",
       "        vertical-align: top;\n",
       "    }\n",
       "\n",
       "    .dataframe thead th {\n",
       "        text-align: right;\n",
       "    }\n",
       "</style>\n",
       "<table border=\"1\" class=\"dataframe\">\n",
       "  <thead>\n",
       "    <tr style=\"text-align: right;\">\n",
       "      <th></th>\n",
       "      <th>Company</th>\n",
       "      <th>Age</th>\n",
       "      <th>Salary</th>\n",
       "      <th>Place</th>\n",
       "      <th>Country</th>\n",
       "      <th>Gender</th>\n",
       "    </tr>\n",
       "  </thead>\n",
       "  <tbody>\n",
       "    <tr>\n",
       "      <th>0</th>\n",
       "      <td>TCS</td>\n",
       "      <td>20.0</td>\n",
       "      <td>NaN</td>\n",
       "      <td>Chennai</td>\n",
       "      <td>India</td>\n",
       "      <td>0</td>\n",
       "    </tr>\n",
       "    <tr>\n",
       "      <th>1</th>\n",
       "      <td>Infosys</td>\n",
       "      <td>30.0</td>\n",
       "      <td>NaN</td>\n",
       "      <td>Mumbai</td>\n",
       "      <td>India</td>\n",
       "      <td>0</td>\n",
       "    </tr>\n",
       "    <tr>\n",
       "      <th>2</th>\n",
       "      <td>TCS</td>\n",
       "      <td>35.0</td>\n",
       "      <td>2300.0</td>\n",
       "      <td>Calcutta</td>\n",
       "      <td>India</td>\n",
       "      <td>0</td>\n",
       "    </tr>\n",
       "    <tr>\n",
       "      <th>3</th>\n",
       "      <td>Infosys</td>\n",
       "      <td>40.0</td>\n",
       "      <td>3000.0</td>\n",
       "      <td>Delhi</td>\n",
       "      <td>India</td>\n",
       "      <td>0</td>\n",
       "    </tr>\n",
       "    <tr>\n",
       "      <th>4</th>\n",
       "      <td>TCS</td>\n",
       "      <td>23.0</td>\n",
       "      <td>4000.0</td>\n",
       "      <td>Mumbai</td>\n",
       "      <td>India</td>\n",
       "      <td>0</td>\n",
       "    </tr>\n",
       "    <tr>\n",
       "      <th>...</th>\n",
       "      <td>...</td>\n",
       "      <td>...</td>\n",
       "      <td>...</td>\n",
       "      <td>...</td>\n",
       "      <td>...</td>\n",
       "      <td>...</td>\n",
       "    </tr>\n",
       "    <tr>\n",
       "      <th>143</th>\n",
       "      <td>TCS</td>\n",
       "      <td>33.0</td>\n",
       "      <td>9024.0</td>\n",
       "      <td>Calcutta</td>\n",
       "      <td>India</td>\n",
       "      <td>1</td>\n",
       "    </tr>\n",
       "    <tr>\n",
       "      <th>144</th>\n",
       "      <td>Infosys</td>\n",
       "      <td>22.0</td>\n",
       "      <td>8787.0</td>\n",
       "      <td>Calcutta</td>\n",
       "      <td>India</td>\n",
       "      <td>1</td>\n",
       "    </tr>\n",
       "    <tr>\n",
       "      <th>145</th>\n",
       "      <td>Infosys</td>\n",
       "      <td>44.0</td>\n",
       "      <td>4034.0</td>\n",
       "      <td>Delhi</td>\n",
       "      <td>India</td>\n",
       "      <td>1</td>\n",
       "    </tr>\n",
       "    <tr>\n",
       "      <th>146</th>\n",
       "      <td>TCS</td>\n",
       "      <td>33.0</td>\n",
       "      <td>5034.0</td>\n",
       "      <td>Mumbai</td>\n",
       "      <td>India</td>\n",
       "      <td>1</td>\n",
       "    </tr>\n",
       "    <tr>\n",
       "      <th>147</th>\n",
       "      <td>Infosys</td>\n",
       "      <td>22.0</td>\n",
       "      <td>8202.0</td>\n",
       "      <td>Cochin</td>\n",
       "      <td>India</td>\n",
       "      <td>0</td>\n",
       "    </tr>\n",
       "  </tbody>\n",
       "</table>\n",
       "<p>148 rows × 6 columns</p>\n",
       "</div>"
      ],
      "text/plain": [
       "     Company   Age  Salary     Place Country  Gender\n",
       "0        TCS  20.0     NaN   Chennai   India       0\n",
       "1    Infosys  30.0     NaN    Mumbai   India       0\n",
       "2        TCS  35.0  2300.0  Calcutta   India       0\n",
       "3    Infosys  40.0  3000.0     Delhi   India       0\n",
       "4        TCS  23.0  4000.0    Mumbai   India       0\n",
       "..       ...   ...     ...       ...     ...     ...\n",
       "143      TCS  33.0  9024.0  Calcutta   India       1\n",
       "144  Infosys  22.0  8787.0  Calcutta   India       1\n",
       "145  Infosys  44.0  4034.0     Delhi   India       1\n",
       "146      TCS  33.0  5034.0    Mumbai   India       1\n",
       "147  Infosys  22.0  8202.0    Cochin   India       0\n",
       "\n",
       "[148 rows x 6 columns]"
      ]
     },
     "execution_count": 13,
     "metadata": {},
     "output_type": "execute_result"
    }
   ],
   "source": [
    "data"
   ]
  },
  {
   "cell_type": "markdown",
   "id": "e941c060-8f78-49f2-822b-d216ca2c437e",
   "metadata": {},
   "source": [
    "### ------------------------------------------------------------------------------------------------------"
   ]
  },
  {
   "cell_type": "markdown",
   "id": "87501316-d5bb-4aaa-b2bf-bfb00a5d2f50",
   "metadata": {},
   "source": [
    "## .Data Cleaning: (Score : 2)\n",
    "### .Find the missing and inappropriate values, treat them appropriately.\n",
    "### .Remove all duplicate rows.\n",
    "### .Find the outliers.\n",
    "### .Replace the value 0 in age as NaN\n",
    "### .Treat the null values in all columns using any measures(removing/ replace the values with mean/median/mode)\n"
   ]
  },
  {
   "cell_type": "code",
   "execution_count": 3,
   "id": "26ce305a-03b8-47b9-a04a-6024d589f5b3",
   "metadata": {},
   "outputs": [
    {
     "name": "stdout",
     "output_type": "stream",
     "text": [
      "Missing Values:\n",
      "Company     8\n",
      "Age        18\n",
      "Salary     24\n",
      "Place      14\n",
      "Country     0\n",
      "Gender      0\n",
      "dtype: int64\n"
     ]
    }
   ],
   "source": [
    "# Step 1: Find and Treat Missing and Inappropriate Values\n",
    "missing_values = data.isnull().sum()\n",
    "print(\"Missing Values:\")\n",
    "print(missing_values)"
   ]
  },
  {
   "cell_type": "code",
   "execution_count": null,
   "id": "78652cf8-95a1-42a4-8764-70d00b898f9f",
   "metadata": {},
   "outputs": [],
   "source": []
  },
  {
   "cell_type": "code",
   "execution_count": 5,
   "id": "8e11ce89-69f7-47a8-ab96-0b9d378d14ea",
   "metadata": {},
   "outputs": [
    {
     "name": "stdout",
     "output_type": "stream",
     "text": [
      "Rows after removing duplicates: 144\n"
     ]
    }
   ],
   "source": [
    "# Step 2: Remove Duplicate Rows\n",
    "data = data.drop_duplicates()\n",
    "print(f\"Rows after removing duplicates: {len(data)}\")"
   ]
  },
  {
   "cell_type": "code",
   "execution_count": null,
   "id": "3d94aea5-a8ae-4c2c-b697-3789f0920221",
   "metadata": {},
   "outputs": [],
   "source": []
  },
  {
   "cell_type": "code",
   "execution_count": 76,
   "id": "81ef81de-1227-4024-ba86-1d6cafd679b1",
   "metadata": {},
   "outputs": [
    {
     "name": "stdout",
     "output_type": "stream",
     "text": [
      "Missing Values:\n",
      "Company     8\n",
      "Age        18\n",
      "Salary     24\n",
      "Place      14\n",
      "Country     0\n",
      "Gender      0\n",
      "dtype: int64\n",
      "Rows after removing duplicates: 144\n",
      "Rows after removing outliers: 144\n",
      "\n",
      "Cleaned Data:\n",
      "    Company   Age  Salary       Place Country  Gender\n",
      "0       TCS  20.0  5000.0     Chennai   India       0\n",
      "1   Infosys  30.0  5000.0      Mumbai   India       0\n",
      "2       TCS  35.0  2300.0    Calcutta   India       0\n",
      "3   Infosys  40.0  3000.0       Delhi   India       0\n",
      "4       TCS  23.0  4000.0      Mumbai   India       0\n",
      "5   Infosys  22.0  5000.0    Calcutta   India       0\n",
      "6       TCS  22.0  6000.0     Chennai   India       1\n",
      "7   Infosys  23.0  7000.0      Mumbai   India       1\n",
      "8       TCS  34.0  8000.0    Calcutta   India       1\n",
      "9       CTS  45.0  9000.0       Delhi   India       0\n",
      "10      CTS  23.0  5000.0      Mumbai   India       0\n",
      "11      CTS  34.0  1089.0    Calcutta   India       0\n",
      "12      CTS  45.0  5000.0     Chennai   India       0\n",
      "13      CTS  18.0  1234.0      Mumbai   India       0\n",
      "14  Infosys  40.0  3000.0    Calcutta   India       0\n",
      "15      TCS  23.0  3000.0       Delhi   India       0\n",
      "16  Infosys  23.0  3030.0  Podicherry   India       0\n",
      "17      TCS  34.0  5000.0      Cochin   India       0\n",
      "18      TCS  22.0  5000.0     Chennai   India       0\n",
      "19  Infosys  32.0  5000.0      Mumbai   India       0\n",
      "20      TCS  37.0  3045.0    Calcutta   India       0\n",
      "21  Infosys  50.0  3184.0       Delhi   India       0\n",
      "22      TCS  21.0  4824.0      Mumbai   India       0\n",
      "23  Infosys  22.0  5835.0      Cochin   India       0\n",
      "24      TCS  22.0  7084.0     Chennai   India       1\n"
     ]
    }
   ],
   "source": [
    "import pandas as pd\n",
    "import numpy as np\n",
    "from scipy import stats\n",
    "\n",
    "# Load the dataset\n",
    "url = \"https://drive.google.com/uc?id=1F3lRf32JM8ejnXq-Cbf9y7fa57zSHGz_\"\n",
    "data = pd.read_csv(url)\n",
    "\n",
    "# Step 1: Find and Treat Missing and Inappropriate Values\n",
    "missing_values = data.isnull().sum()\n",
    "print(\"Missing Values:\")\n",
    "print(missing_values)\n",
    "\n",
    "# Step 2: Remove Duplicate Rows\n",
    "data = data.drop_duplicates()\n",
    "print(f\"Rows after removing duplicates: {len(data)}\")\n",
    "\n",
    "# Step 3: Find and Handle Outliers (Using Z-Score method as an example)\n",
    "numeric_features = data.select_dtypes(include=[np.number]).columns\n",
    "z_scores = np.abs(stats.zscore(data[numeric_features]))\n",
    "outliers = (z_scores > 3).any(axis=1)\n",
    "data = data[~outliers]\n",
    "print(f\"Rows after removing outliers: {len(data)}\")\n",
    "\n",
    "# Step 4: Replace Value 0 in Age with NaN using Method 2\n",
    "data['Age'] = data['Age'].replace(0, np.nan)\n",
    "\n",
    "# Step 5: Treat Null Values (Replacing age with mode and salary with median)\n",
    "data['Age'] = data['Age'].fillna(data['Age'].mode()[0])\n",
    "data['Salary'] = data['Salary'].fillna(data['Salary'].median())\n",
    "\n",
    "# Display the cleaned data\n",
    "print(\"\\nCleaned Data:\")\n",
    "print(data.head(25))\n"
   ]
  },
  {
   "cell_type": "code",
   "execution_count": 78,
   "id": "7dc20327-61c7-4ce0-a510-dccc714a2d6c",
   "metadata": {},
   "outputs": [
    {
     "name": "stdout",
     "output_type": "stream",
     "text": [
      "Rows after removing outliers: 144\n",
      "\n",
      "Cleaned Data:\n",
      "    Company   Age  Salary       Place Country  Gender\n",
      "0       TCS  20.0  5000.0     Chennai   India       0\n",
      "1   Infosys  30.0  5000.0      Mumbai   India       0\n",
      "2       TCS  35.0  2300.0    Calcutta   India       0\n",
      "3   Infosys  40.0  3000.0       Delhi   India       0\n",
      "4       TCS  23.0  4000.0      Mumbai   India       0\n",
      "5   Infosys  22.0  5000.0    Calcutta   India       0\n",
      "6       TCS  22.0  6000.0     Chennai   India       1\n",
      "7   Infosys  23.0  7000.0      Mumbai   India       1\n",
      "8       TCS  34.0  8000.0    Calcutta   India       1\n",
      "9       CTS  45.0  9000.0       Delhi   India       0\n",
      "10      CTS  23.0  5000.0      Mumbai   India       0\n",
      "11      CTS  34.0  1089.0    Calcutta   India       0\n",
      "12      CTS  45.0  5000.0     Chennai   India       0\n",
      "13      CTS  18.0  1234.0      Mumbai   India       0\n",
      "14  Infosys  40.0  3000.0    Calcutta   India       0\n",
      "15      TCS  23.0  3000.0       Delhi   India       0\n",
      "16  Infosys  23.0  3030.0  Podicherry   India       0\n",
      "17      TCS  34.0  5000.0      Cochin   India       0\n",
      "18      TCS  22.0  5000.0     Chennai   India       0\n",
      "19  Infosys  32.0  5000.0      Mumbai   India       0\n",
      "20      TCS  37.0  3045.0    Calcutta   India       0\n",
      "21  Infosys  50.0  3184.0       Delhi   India       0\n",
      "22      TCS  21.0  4824.0      Mumbai   India       0\n",
      "23  Infosys  22.0  5835.0      Cochin   India       0\n",
      "24      TCS  22.0  7084.0     Chennai   India       1\n"
     ]
    }
   ],
   "source": [
    "# Step 3: Find and Handle Outliers (Using Z-Score method as an example)\n",
    "z_scores = np.abs(stats.zscore(data.select_dtypes(include=[np.number])))\n",
    "outliers = (z_scores > 3).all(axis=1)\n",
    "data = data[~outliers]\n",
    "print(f\"Rows after removing outliers: {len(data)}\")\n",
    "\n",
    "# Step 4: Replace Value 0 in Age with NaN using Method 2\n",
    "data['Age'] = data['Age'].replace(0, np.nan)\n",
    "\n",
    "# Step 5: Treat Null Values (Using Mean/Median/Mode as an example)\n",
    "# Example: Replace with mean\n",
    "data = data.apply(lambda col: col.fillna(col.mode()[0]) if col.dtype == 'object' else col.fillna(col.mean()))\n",
    "\n",
    "# Display the cleaned data\n",
    "print(\"\\nCleaned Data:\")\n",
    "print(data.head(25))"
   ]
  },
  {
   "cell_type": "markdown",
   "id": "0c4ecdd9-7d72-4dac-9e61-395c8c74baee",
   "metadata": {},
   "source": [
    "### ------------------------------------------------------------------------------------"
   ]
  },
  {
   "cell_type": "markdown",
   "id": "d3b78bde-df2d-4a08-a36e-a9ae86fb0d20",
   "metadata": {},
   "source": [
    "## .Data Analysis: (Score : 2)\n",
    "### .Filter the data with age >40 and salary<5000\n",
    "### .Plot the chart with age and salary\n",
    "### .Count the number of people from each place and represent it visually\n"
   ]
  },
  {
   "cell_type": "code",
   "execution_count": 49,
   "id": "4b697e44-697b-41da-a364-4a3e3721cfbe",
   "metadata": {},
   "outputs": [
    {
     "name": "stdout",
     "output_type": "stream",
     "text": [
      "Filtered Data:\n",
      "    Company   Age  Salary      Place Country  Gender\n",
      "21  Infosys  50.0  3184.0      Delhi   India       0\n",
      "32  Infosys  45.0  4034.0   Calcutta   India       0\n",
      "39  Infosys  41.0  3000.0     Mumbai   India       0\n",
      "50  Infosys  41.0  3000.0    Chennai   India       0\n",
      "57  Infosys  51.0  3184.0  Hyderabad   India       0\n"
     ]
    },
    {
     "data": {
      "image/png": "[encoded data removed]",
      "text/plain": [
       "<Figure size 1000x600 with 1 Axes>"
      ]
     },
     "metadata": {},
     "output_type": "display_data"
    },
    {
     "data": {
      "image/png": "[encoded data removed]",
      "text/plain": [
       "<Figure size 1200x800 with 1 Axes>"
      ]
     },
     "metadata": {},
     "output_type": "display_data"
    }
   ],
   "source": [
    "import pandas as pd\n",
    "import numpy as np\n",
    "import matplotlib.pyplot as plt\n",
    "import seaborn as sns\n",
    "\n",
    "# Load the dataset\n",
    "# url = \"https://drive.google.com/uc?id=1F3lRf32JM8ejnXq-Cbf9y7fa57zSHGz_\"\n",
    "# data = pd.read_csv(url)\n",
    "\n",
    "# Step 1: Filter the Data\n",
    "filtered_data = data[(data['Age'] > 40) & (data['Salary'] < 5000)]\n",
    "print(\"Filtered Data:\")\n",
    "print(filtered_data.head())\n",
    "\n",
    "# Step 2: Plot the Chart with Age and Salary\n",
    "plt.figure(figsize=(10, 6))\n",
    "sns.scatterplot(x='Age', y='Salary', data=filtered_data)\n",
    "plt.title('Age vs. Salary')\n",
    "plt.xlabel('Age')\n",
    "plt.ylabel('Salary')\n",
    "plt.grid(True)\n",
    "plt.show()\n",
    "\n",
    "# Step 3: Count the Number of People from Each Place and Represent it Visually\n",
    "place_counts = filtered_data['Place'].value_counts()\n",
    "plt.figure(figsize=(12, 8))\n",
    "sns.barplot(x=place_counts.index, y=place_counts.values)\n",
    "plt.title('Number of People from Each Place')\n",
    "plt.xlabel('Place')\n",
    "plt.ylabel('Count')\n",
    "plt.xticks(rotation=45)\n",
    "plt.grid(True)\n",
    "plt.show()\n"
   ]
  },
  {
   "cell_type": "markdown",
   "id": "454c343d-4dd4-4b9c-b0c4-327a24517b2b",
   "metadata": {},
   "source": [
    "## --------------------------------------------------------------------------------"
   ]
  },
  {
   "cell_type": "markdown",
   "id": "59195e5e-3ab8-4508-827c-5f67b95db62c",
   "metadata": {},
   "source": [
    "### .Data Encoding: (Score : 2)\n",
    "### .Convert categorical variables into numerical representations using techniques such as one-hot encoding, label encoding, making them suitable for analysis by machine learning algorithms.\n"
   ]
  },
  {
   "cell_type": "code",
   "execution_count": 80,
   "id": "78955595-a52b-4d42-859d-048d851f3700",
   "metadata": {},
   "outputs": [
    {
     "name": "stdout",
     "output_type": "stream",
     "text": [
      "Categorical Columns:\n",
      "Index(['Company', 'Place', 'Country'], dtype='object')\n",
      "One-Hot Encoded Data:\n",
      "    Age  Salary  Gender  Company_Congnizant  Company_Infosys  \\\n",
      "0  20.0  5000.0       0               False            False   \n",
      "1  30.0  5000.0       0               False             True   \n",
      "2  35.0  2300.0       0               False            False   \n",
      "3  40.0  3000.0       0               False             True   \n",
      "4  23.0  4000.0       0               False            False   \n",
      "\n",
      "   Company_Infosys Pvt Lmt  Company_TCS  Company_Tata Consultancy Services  \\\n",
      "0                    False         True                              False   \n",
      "1                    False        False                              False   \n",
      "2                    False         True                              False   \n",
      "3                    False        False                              False   \n",
      "4                    False         True                              False   \n",
      "\n",
      "   Place_Calcutta  Place_Chennai  Place_Cochin  Place_Delhi  Place_Hyderabad  \\\n",
      "0           False           True         False        False            False   \n",
      "1           False          False         False        False            False   \n",
      "2            True          False         False        False            False   \n",
      "3           False          False         False         True            False   \n",
      "4           False          False         False        False            False   \n",
      "\n",
      "   Place_Mumbai  Place_Nagpur  Place_Noida  Place_Podicherry  Place_Pune  \n",
      "0         False         False        False             False       False  \n",
      "1          True         False        False             False       False  \n",
      "2         False         False        False             False       False  \n",
      "3         False         False        False             False       False  \n",
      "4          True         False        False             False       False  \n",
      "Label Encoded Data:\n",
      "   Gender  gender_encoded\n",
      "0       0               0\n",
      "1       0               0\n",
      "2       0               0\n",
      "3       0               0\n",
      "4       0               0\n"
     ]
    }
   ],
   "source": [
    "import pandas as pd\n",
    "from sklearn.preprocessing import OneHotEncoder, LabelEncoder\n",
    "\n",
    "# Load the dataset\n",
    "# url = \"https://drive.google.com/uc?id=1F3lRf32JM8ejnXq-Cbf9y7fa57zSHGz_\"\n",
    "# data = pd.read_csv(url)\n",
    "\n",
    "# Step 1: Identify Categorical Variables\n",
    "categorical_columns = data.select_dtypes(include=['object']).columns\n",
    "print(\"Categorical Columns:\")\n",
    "print(categorical_columns)\n",
    "\n",
    "# Step 2: Apply One-Hot Encoding\n",
    "one_hot_encoded_data = pd.get_dummies(data, columns=categorical_columns, drop_first=True)\n",
    "print(\"One-Hot Encoded Data:\")\n",
    "print(one_hot_encoded_data.head())\n",
    "\n",
    "# Step 3: Apply Label Encoding (Example on a specific column, e.g., 'gender')\n",
    "label_encoder = LabelEncoder()\n",
    "data['gender_encoded'] = label_encoder.fit_transform(data['Gender'])\n",
    "\n",
    "print(\"Label Encoded Data:\")\n",
    "print(data[['Gender', 'gender_encoded']].head())\n"
   ]
  },
  {
   "cell_type": "code",
   "execution_count": 41,
   "id": "f5dcbddd-c59b-4e6e-964b-5456275c1fca",
   "metadata": {},
   "outputs": [
    {
     "name": "stdout",
     "output_type": "stream",
     "text": [
      "Numeric Features:\n",
      "Index(['Age', 'Salary', 'Gender'], dtype='object')\n",
      "Standard Scaled Data:\n",
      "   Company       Age    Salary     Place Country    Gender\n",
      "0      TCS -0.948501       NaN   Chennai   India -0.535683\n",
      "1  Infosys -0.043841       NaN    Mumbai   India -0.535683\n",
      "2      TCS  0.408489 -1.175200  Calcutta   India -0.535683\n",
      "3  Infosys  0.860819 -0.902122     Delhi   India -0.535683\n",
      "4      TCS -0.677103 -0.512010    Mumbai   India -0.535683\n",
      "Min-Max Scaled Data:\n",
      "   Company       Age    Salary     Place Country  Gender\n",
      "0      TCS  0.370370       NaN   Chennai   India     0.0\n",
      "1  Infosys  0.555556       NaN    Mumbai   India     0.0\n",
      "2      TCS  0.648148  0.137817  Calcutta   India     0.0\n",
      "3  Infosys  0.740741  0.217480     Delhi   India     0.0\n",
      "4      TCS  0.425926  0.331285    Mumbai   India     0.0\n"
     ]
    }
   ],
   "source": [
    "import pandas as pd\n",
    "from sklearn.preprocessing import StandardScaler, MinMaxScaler\n",
    "\n",
    "# Load the dataset\n",
    "url = \"https://drive.google.com/uc?id=1F3lRf32JM8ejnXq-Cbf9y7fa57zSHGz_\"\n",
    "data = pd.read_csv(url)\n",
    "\n",
    "# Select only the numeric features for scaling\n",
    "numeric_features = data.select_dtypes(include=[np.number]).columns\n",
    "print(\"Numeric Features:\")\n",
    "print(numeric_features)\n",
    "\n",
    "# Step 1: Standard Scaling\n",
    "standard_scaler = StandardScaler()\n",
    "data_standard_scaled = data.copy()\n",
    "data_standard_scaled[numeric_features] = standard_scaler.fit_transform(data[numeric_features])\n",
    "\n",
    "print(\"Standard Scaled Data:\")\n",
    "print(data_standard_scaled.head())\n",
    "\n",
    "# Step 2: Min-Max Scaling\n",
    "min_max_scaler = MinMaxScaler()\n",
    "data_min_max_scaled = data.copy()\n",
    "data_min_max_scaled[numeric_features] = min_max_scaler.fit_transform(data[numeric_features])\n",
    "\n",
    "print(\"Min-Max Scaled Data:\")\n",
    "print(data_min_max_scaled.head())\n"
   ]
  },
  {
   "cell_type": "code",
   "execution_count": null,
   "id": "7606bbce-18ef-4f73-9ede-48e59c921122",
   "metadata": {},
   "outputs": [],
   "source": [
    "### ----------------------------------------------------------------------------------------------------------"
   ]
  },
  {
   "cell_type": "markdown",
   "id": "28ae1391-08a7-407f-9f06-be40bc74e558",
   "metadata": {},
   "source": [
    "### .Feature Scaling: (Score : 2)\n",
    "### .After the process of encoding, perform the scaling of the features using standardscaler and minmaxscaler.\n"
   ]
  },
  {
   "cell_type": "code",
   "execution_count": 82,
   "id": "b053c617-2063-4a26-a81d-f0e063d54fac",
   "metadata": {},
   "outputs": [
    {
     "name": "stdout",
     "output_type": "stream",
     "text": [
      "Categorical Columns:\n",
      "Index(['Company', 'Place', 'Country'], dtype='object')\n",
      "Data after Dropping Categorical Columns:\n",
      "    Age  Salary  Gender  gender_encoded\n",
      "0  20.0  5000.0       0               0\n",
      "1  30.0  5000.0       0               0\n",
      "2  35.0  2300.0       0               0\n",
      "3  40.0  3000.0       0               0\n",
      "4  23.0  4000.0       0               0\n",
      "Standard Scaled Data:\n",
      "        Age    Salary    Gender  gender_encoded\n",
      "0 -1.160646 -0.100827 -0.534522       -0.534522\n",
      "1 -0.048650 -0.100827 -0.534522       -0.534522\n",
      "2  0.507348 -1.243735 -0.534522       -0.534522\n",
      "3  1.063346 -0.947426 -0.534522       -0.534522\n",
      "4 -0.827047 -0.524127 -0.534522       -0.534522\n",
      "Min-Max Scaled Data:\n",
      "        Age    Salary  Gender  gender_encoded\n",
      "0  0.081081  0.445089     0.0             0.0\n",
      "1  0.351351  0.445089     0.0             0.0\n",
      "2  0.486486  0.137817     0.0             0.0\n",
      "3  0.621622  0.217480     0.0             0.0\n",
      "4  0.162162  0.331285     0.0             0.0\n"
     ]
    }
   ],
   "source": [
    "import pandas as pd\n",
    "from sklearn.preprocessing import StandardScaler, MinMaxScaler\n",
    "\n",
    "# Load the dataset\n",
    "# url = \"https://drive.google.com/uc?id=1F3lRf32JM8ejnXq-Cbf9y7fa57zSHGz_\"\n",
    "# data = pd.read_csv(url)\n",
    "\n",
    "# Identify Categorical Columns\n",
    "categorical_columns = data.select_dtypes(include=['object']).columns\n",
    "print(\"Categorical Columns:\")\n",
    "print(categorical_columns)\n",
    "\n",
    "# Drop Categorical Columns\n",
    "data_dropped = data.drop(columns=categorical_columns)\n",
    "print(\"Data after Dropping Categorical Columns:\")\n",
    "print(data_dropped.head())\n",
    "\n",
    "# Select only the numeric features for scaling\n",
    "numeric_features = data_dropped.select_dtypes(include=[np.number]).columns\n",
    "\n",
    "# Standard Scaling\n",
    "standard_scaler = StandardScaler()\n",
    "data_standard_scaled = data_dropped.copy()\n",
    "data_standard_scaled[numeric_features] = standard_scaler.fit_transform(data_dropped[numeric_features])\n",
    "\n",
    "print(\"Standard Scaled Data:\")\n",
    "print(data_standard_scaled.head())\n",
    "\n",
    "# Min-Max Scaling\n",
    "min_max_scaler = MinMaxScaler()\n",
    "data_min_max_scaled = data_dropped.copy()\n",
    "data_min_max_scaled[numeric_features] = min_max_scaler.fit_transform(data_dropped[numeric_features])\n",
    "\n",
    "print(\"Min-Max Scaled Data:\")\n",
    "print(data_min_max_scaled.head())\n"
   ]
  },
  {
   "cell_type": "code",
   "execution_count": null,
   "id": "ef9bfe00-8ce8-49dc-aaf2-78d4a826e672",
   "metadata": {},
   "outputs": [],
   "source": []
  },
  {
   "cell_type": "markdown",
   "id": "c0233f62-f4f4-4819-97e3-48a274d1649d",
   "metadata": {},
   "source": [
    "# Conclusion\n",
    "###We successfully implemented a data preprocessing system to address common challenges. Here’s a brief overview of the steps:\n",
    "\n",
    "### .Data Exploration:\n",
    "\n",
    "### Explored the dataset and performed statistical analysis.\n",
    "\n",
    "### Renamed columns for clarity.\n",
    "\n",
    "## Data Cleaning:\n",
    "\n",
    "### Treated missing and inappropriate values, removed duplicates, and handled outliers.\n",
    "\n",
    "### Replaced 0 in the 'age' column with NaN and treated null values with mode (for 'age') and median (for 'salary').\n",
    "\n",
    "## Data Analysis:\n",
    "\n",
    "### Filtered data for age > 40 and salary < 5000.\n",
    "\n",
    "### Created a scatter plot for age and salary.\n",
    "\n",
    "### Counted and visualized the number of people from each place.\n",
    "\n",
    "## Data Encoding:\n",
    "\n",
    "### Converted categorical variables into numerical representations using one-hot and label encoding.\n",
    "\n",
    "## Feature Scaling:\n",
    "\n",
    "### Scaled features using StandardScaler and MinMaxScaler."
   ]
  },
  {
   "cell_type": "code",
   "execution_count": null,
   "id": "c3f7c057-aa5a-4cb1-8607-6c6a476543ef",
   "metadata": {},
   "outputs": [],
   "source": []
  }
 ],
 "metadata": {
  "kernelspec": {
   "display_name": "Python [conda env:base] *",
   "language": "python",
   "name": "conda-base-py"
  },
  "language_info": {
   "codemirror_mode": {
    "name": "ipython",
    "version": 3
   },
   "file_extension": ".py",
   "mimetype": "text/x-python",
   "name": "python",
   "nbconvert_exporter": "python",
   "pygments_lexer": "ipython3",
   "version": "3.12.7"
  }
 },
 "nbformat": 4,
 "nbformat_minor": 5
}
